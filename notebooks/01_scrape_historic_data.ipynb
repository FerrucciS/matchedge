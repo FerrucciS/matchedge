{
 "cells": [
  {
   "cell_type": "markdown",
   "id": "4be5382e",
   "metadata": {},
   "source": [
    "# Tennis H2H (maybe over/under) Predictions\n",
    "\n",
    "\n",
    "---\n",
    "\n",
    "\n",
    "## Scraping Data\n",
    "\n",
    "Most valuable sources of data will come from flashscore and ATP website.\n",
    "\n",
    "\n",
    "Import libraries"
   ]
  },
  {
   "cell_type": "code",
   "execution_count": null,
   "id": "2b92eb9f",
   "metadata": {},
   "outputs": [],
   "source": [
    "from selenium import webdriver \n",
    "from selenium.webdriver.chrome.service import Service\n",
    "from webdriver_manager.chrome import ChromeDriverManager\n",
    "from selenium.webdriver.chrome.options import Options\n",
    "from bs4 import BeautifulSoup\n",
    "import random\n",
    "import time\n",
    "from datetime import datetime, timedelta\n",
    "import pandas as pd\n",
    "import json\n",
    "import requests\n",
    "import re\n",
    "import numpy as np\n",
    "import pickle\n",
    "from scraping_utils import get_tournament, create_driver, get_live_player_rankings, extract_results_url, get_tournament_results, get_stat_names, get_stats"
   ]
  },
  {
   "cell_type": "markdown",
   "id": "a669afb3",
   "metadata": {},
   "source": [
    "filterwarnings function to filter or ignore specific warning messages or categories."
   ]
  },
  {
   "cell_type": "code",
   "execution_count": 2,
   "id": "38494c30",
   "metadata": {},
   "outputs": [],
   "source": [
    "import warnings\n",
    "# Ignore all warnings\n",
    "warnings.filterwarnings(\"ignore\", category=FutureWarning)"
   ]
  },
  {
   "cell_type": "markdown",
   "id": "5b0ac9a3",
   "metadata": {},
   "source": [
    "--- \n",
    "\n",
    "## Get Tournament Data\n",
    "\n",
    "\n",
    "#### Use scaping_utils functions"
   ]
  },
  {
   "cell_type": "code",
   "execution_count": null,
   "id": "1bcca7f9",
   "metadata": {},
   "outputs": [],
   "source": [
    "                                                              # Launch browser\n",
    "tourn_archive_url = [\"https://www.atptour.com/en/scores/results-archive?year=2025\", \n",
    "                     \"https://www.atptour.com/en/scores/results-archive?year=2024\"]     # ATP tournamnet archive\n",
    "df_tournaments = get_tournament(tourn_archive_url = tourn_archive_url, save_cache=False)"
   ]
  },
  {
   "cell_type": "markdown",
   "id": "4b83117b",
   "metadata": {},
   "source": [
    "Save the data in csv"
   ]
  },
  {
   "cell_type": "code",
   "execution_count": null,
   "id": "fcecddc3",
   "metadata": {},
   "outputs": [],
   "source": [
    "\n",
    " # -------------------------------------- iMac -------------------------------------- #\n",
    "# df_tournaments.to_csv('/Users/samueleferrucci/Library/CloudStorage/GoogleDrive-samueleferrucci94@gmail.com/Other computers/My MacBook Air/Coding/Projects/Tennis ML/data/raw/All_Tournaments.csv', sep=',', columns=df_tournaments.columns, index=False)\n",
    " # -------------------------------------- - -------------------------------------- #\n",
    " # -------------------------------------- Macbook -------------------------------------- #\n",
    "df_tournaments.to_csv('/Users/samueleferrucci/Documents/Coding/Projects/Tennis ML/data/raw/All_Tournaments.csv', sep=',', columns=df_tournaments.columns, index=False)\n",
    " # -------------------------------------- - -------------------------------------- #"
   ]
  },
  {
   "cell_type": "markdown",
   "id": "8fc2536a",
   "metadata": {},
   "source": [
    "We now have a all the tournaments we want to scrape results and statistics for.\n",
    "\n",
    "---\n",
    "\n",
    "\n"
   ]
  },
  {
   "cell_type": "markdown",
   "id": "b1ebb7ef",
   "metadata": {},
   "source": [
    "## Use API to Obtain Top Player Id's\n",
    "\n",
    "\n",
    "#### Get Top 500 Live Rankings\n",
    "\n",
    "The API website is https://rapidapi.com/cantagalloedoardo/api/ultimate-tennis1"
   ]
  },
  {
   "cell_type": "code",
   "execution_count": null,
   "id": "524deeec",
   "metadata": {},
   "outputs": [
    {
     "name": "stdout",
     "output_type": "stream",
     "text": [
      "200\n"
     ]
    }
   ],
   "source": [
    "df_top_500_players = get_live_player_rankings(500)"
   ]
  },
  {
   "cell_type": "markdown",
   "id": "9a394d54",
   "metadata": {},
   "source": [
    "Save data in CSV"
   ]
  },
  {
   "cell_type": "code",
   "execution_count": null,
   "id": "0b283df3",
   "metadata": {},
   "outputs": [],
   "source": [
    "# -------------------------------------- iMac -------------------------------------- #\n",
    "# df_top_500_players.to_csv('/Users/samueleferrucci/Library/CloudStorage/GoogleDrive-samueleferrucci94@gmail.com/Other computers/My MacBook Air/Coding/Projects/Tennis ML/data/raw/top_500_players_23_June.csv', sep=',', columns=top_500_players_23_June.columns, index=False)\n",
    "# -------------------------------------- - -------------------------------------- #\n",
    "# -------------------------------------- Macbook -------------------------------------- #\n",
    "df_top_500_players.to_csv('/Users/samueleferrucci/Library/CloudStorage/GoogleDrive-samueleferrucci94@gmail.com/Other computers/My MacBook Air/Coding/Projects/Tennis ML/data/raw/top_500_players_23_June.csv', sep=',', columns=df_top_500_players.columns, index=False)\n",
    "# -------------------------------------- - -------------------------------------- #"
   ]
  },
  {
   "cell_type": "markdown",
   "id": "d47b029b",
   "metadata": {},
   "source": [
    "Saved the dataset to CSV.\n",
    "\n",
    "---\n",
    "\n",
    "\n",
    "## Tournament Score Results\n",
    "\n",
    "\n"
   ]
  },
  {
   "cell_type": "markdown",
   "id": "15cca251",
   "metadata": {},
   "source": [
    "#### Tournament Results URL\n",
    "\n",
    "Then I can loop through all the tournaments"
   ]
  },
  {
   "cell_type": "code",
   "execution_count": 2,
   "id": "d4a7c86b",
   "metadata": {},
   "outputs": [],
   "source": [
    " # -------------------------------------- Macbook -------------------------------------- #\n",
    "df_tournaments = pd.read_csv('/Users/samueleferrucci/Documents/Coding/Projects/Tennis ML/data/raw/All_Tournaments.csv', sep=',')\n",
    "df_tournaments[\"end_date\"] = pd.to_datetime(df_tournaments[\"end_date\"])\n",
    "df_top_500_players = pd.read_csv('/Users/samueleferrucci/Documents/Coding/Projects/Tennis ML/data/raw/top_500_players_23_June.csv', sep=',')\n",
    " # -------------------------------------- - -------------------------------------- #\n",
    " \n",
    " # -------------------------------------- iMac -------------------------------------- #\n",
    "# df_tournaments = pd.read_csv('/Users/samueleferrucci/Library/CloudStorage/GoogleDrive-samueleferrucci94@gmail.com/Other computers/My MacBook Air/Coding/Projects/Tennis ML/data/raw/All_Tournaments.csv', sep=',')\n",
    "# df_top_500_players = pd.read_csv('/Users/samueleferrucci/Library/CloudStorage/GoogleDrive-samueleferrucci94@gmail.com/Other computers/My MacBook Air/Coding/Projects/Tennis ML/data/raw/top_500_players_23_June.csv', sep=',')\n",
    " # -------------------------------------- - -------------------------------------- #"
   ]
  },
  {
   "cell_type": "code",
   "execution_count": 3,
   "id": "7be63668",
   "metadata": {},
   "outputs": [],
   "source": [
    "results_url = extract_results_url(df_tournament=df_tournaments)"
   ]
  },
  {
   "cell_type": "markdown",
   "id": "0aed7a49",
   "metadata": {},
   "source": [
    "#### Get the Scores\n",
    "\n",
    "Call function get_tournament_results "
   ]
  },
  {
   "cell_type": "code",
   "execution_count": null,
   "id": "fad004a8",
   "metadata": {},
   "outputs": [],
   "source": [
    "df_tournament_results = get_tournament_results(results_url)"
   ]
  },
  {
   "cell_type": "markdown",
   "id": "4e0d78a8",
   "metadata": {},
   "source": [
    "\n",
    "\n",
    "\n",
    "### Concat All Results*\n",
    "\n",
    "Create a dataframe will all results together __IF__ the ```get_tournament_results``` function saved all the tournament data separately"
   ]
  },
  {
   "cell_type": "code",
   "execution_count": 7,
   "id": "284e915b",
   "metadata": {},
   "outputs": [],
   "source": [
    "def process_files(tourn_url):\n",
    "     \n",
    "    tournament = tourn_url.split(\"/\")[-4]\n",
    "    year = tourn_url.split(\"/\")[-2] \n",
    "    \n",
    "    df = pd.read_csv(f\"/Users/samueleferrucci/Documents/Coding/Projects/Tennis ML/data/raw/{tournament}_{year}_results.csv\", sep=',')\n",
    "\n",
    "    return(df)\n",
    "\n",
    "    \n",
    "frames = [process_files(f) for f in results_url]\n",
    "df_tournament_results = pd.concat(frames)"
   ]
  },
  {
   "cell_type": "markdown",
   "id": "9b1f2dcb",
   "metadata": {},
   "source": [
    "---\n",
    "\n",
    "\n",
    "## Get Tournament Stats\n",
    "\n"
   ]
  },
  {
   "cell_type": "markdown",
   "id": "048659a9",
   "metadata": {},
   "source": [
    "Stats URL's"
   ]
  },
  {
   "cell_type": "code",
   "execution_count": 2,
   "id": "e5506a7c",
   "metadata": {},
   "outputs": [],
   "source": [
    "df_tournament_results = pd.read_csv('/Users/samueleferrucci/Documents/Coding/Projects/Tennis ML/data/raw/all_results.csv', sep=',')"
   ]
  },
  {
   "cell_type": "code",
   "execution_count": 3,
   "id": "8e2f5c9a",
   "metadata": {},
   "outputs": [],
   "source": [
    "stat_url = df_tournament_results['stats_link'].to_list()"
   ]
  },
  {
   "cell_type": "markdown",
   "id": "f11fe029",
   "metadata": {},
   "source": [
    "### Call Function To Extract Stats"
   ]
  },
  {
   "cell_type": "code",
   "execution_count": null,
   "id": "4eda6480",
   "metadata": {},
   "outputs": [],
   "source": [
    "stats = get_stats(stat_url[64:66])\n"
   ]
  },
  {
   "cell_type": "markdown",
   "id": "b21a3a86",
   "metadata": {},
   "source": [
    "Need to get GS's which didnt work earlier"
   ]
  },
  {
   "cell_type": "code",
   "execution_count": 23,
   "id": "a020aa04",
   "metadata": {},
   "outputs": [],
   "source": [
    "GS_stat_url = []\n",
    "GS = {'580', '520', '540', '560'}\n",
    "\n",
    "for url in stat_url:\n",
    "    if isinstance(url, str):  # Only split strings\n",
    "        tourn_name = url.split(\"/\")[-2]\n",
    "        if tourn_name in GS:\n",
    "            GS_stat_url.append(url)"
   ]
  },
  {
   "cell_type": "code",
   "execution_count": 27,
   "id": "4e890182",
   "metadata": {},
   "outputs": [
    {
     "name": "stdout",
     "output_type": "stream",
     "text": [
      "Skipping broken or invalid stat page: https://www.atptour.com//en/scores/match-stats/archive/2025/580/ms008 — Error: string index out of range\n",
      "Skipping broken or invalid stat page: https://www.atptour.com//en/scores/match-stats/archive/2025/580/ms009 — Error: string index out of range\n",
      "Skipping broken or invalid stat page: https://www.atptour.com//en/scores/match-stats/archive/2025/580/ms010 — Error: string index out of range\n",
      "Skipping broken or invalid stat page: https://www.atptour.com//en/scores/match-stats/archive/2025/580/ms011 — Error: string index out of range\n",
      "Skipping broken or invalid stat page: https://www.atptour.com//en/scores/match-stats/archive/2025/580/ms054 — Error: string index out of range\n",
      "Skipping broken or invalid stat page: https://www.atptour.com//en/scores/match-stats/archive/2025/520/ms016 — Error: string index out of range\n",
      "Skipping broken or invalid stat page: https://www.atptour.com//en/scores/match-stats/archive/2025/520/ms017 — Error: string index out of range\n",
      "Skipping broken or invalid stat page: https://www.atptour.com//en/scores/match-stats/archive/2025/520/ms060 — Error: string index out of range\n",
      "Skipping broken or invalid stat page: https://www.atptour.com//en/scores/match-stats/archive/2025/520/ms104 — Error: string index out of range\n",
      "Skipping broken or invalid stat page: https://www.atptour.com//en/scores/match-stats/archive/2025/520/qs026 — Error: string index out of range\n",
      "Skipping broken or invalid stat page: https://www.atptour.com//en/scores/match-stats/archive/2025/520/qs053 — Error: string index out of range\n",
      "Skipping broken or invalid stat page: https://www.atptour.com//en/scores/match-stats/archive/2025/520/qs065 — Error: HTTPConnectionPool(host='localhost', port=57295): Read timed out. (read timeout=120)\n",
      "Skipping broken or invalid stat page: https://www.atptour.com//en/scores/match-stats/archive/2025/520/qs094 — Error: string index out of range\n",
      "Skipping broken or invalid stat page: https://www.atptour.com//en/scores/match-stats/archive/2025/520/qs113 — Error: string index out of range\n",
      "Skipping broken or invalid stat page: https://www.atptour.com//en/scores/match-stats/archive/2024/540/ms014 — Error: string index out of range\n",
      "Skipping broken or invalid stat page: https://www.atptour.com//en/scores/match-stats/archive/2024/540/ms059 — Error: string index out of range\n",
      "Skipping broken or invalid stat page: https://www.atptour.com//en/scores/match-stats/archive/2024/540/ms041 — Error: string index out of range\n",
      "Skipping broken or invalid stat page: https://www.atptour.com//en/scores/match-stats/archive/2024/540/ms076 — Error: string index out of range\n",
      "Skipping broken or invalid stat page: https://www.atptour.com//en/scores/match-stats/archive/2024/560/ms026 — Error: Message: invalid session id: session deleted as the browser has closed the connection\n",
      "from disconnected: Unable to receive message from renderer\n",
      "  (Session info: chrome=138.0.7204.158)\n",
      "Stacktrace:\n",
      "0   chromedriver                        0x0000000102817a28 chromedriver + 6167080\n",
      "1   chromedriver                        0x000000010280efda chromedriver + 6131674\n",
      "2   chromedriver                        0x000000010229be00 chromedriver + 417280\n",
      "3   chromedriver                        0x0000000102283d12 chromedriver + 318738\n",
      "4   chromedriver                        0x0000000102283a4b chromedriver + 318027\n",
      "5   chromedriver                        0x0000000102281904 chromedriver + 309508\n",
      "6   chromedriver                        0x000000010228223f chromedriver + 311871\n",
      "7   chromedriver                        0x0000000102290d63 chromedriver + 372067\n",
      "8   chromedriver                        0x00000001022aa5fd chromedriver + 476669\n",
      "9   chromedriver                        0x00000001022b0ceb chromedriver + 503019\n",
      "10  chromedriver                        0x000000010228292b chromedriver + 313643\n",
      "11  chromedriver                        0x00000001022a9d3e chromedriver + 474430\n",
      "12  chromedriver                        0x000000010233b43a chromedriver + 1070138\n",
      "13  chromedriver                        0x0000000102313a63 chromedriver + 907875\n",
      "14  chromedriver                        0x00000001022e00c7 chromedriver + 696519\n",
      "15  chromedriver                        0x00000001022e0d31 chromedriver + 699697\n",
      "16  chromedriver                        0x00000001027d5be0 chromedriver + 5897184\n",
      "17  chromedriver                        0x00000001027d9c59 chromedriver + 5913689\n",
      "18  chromedriver                        0x00000001027b08f2 chromedriver + 5744882\n",
      "19  chromedriver                        0x00000001027da5df chromedriver + 5916127\n",
      "20  chromedriver                        0x000000010279f5c4 chromedriver + 5674436\n",
      "21  chromedriver                        0x00000001027fc5b8 chromedriver + 6055352\n",
      "22  chromedriver                        0x00000001027fc780 chromedriver + 6055808\n",
      "23  chromedriver                        0x000000010280eb71 chromedriver + 6130545\n",
      "24  libsystem_pthread.dylib             0x00007ff80f49adf1 _pthread_start + 99\n",
      "25  libsystem_pthread.dylib             0x00007ff80f496857 thread_start + 15\n",
      "\n"
     ]
    }
   ],
   "source": [
    "GS_stats = get_stats(GS_stat_url)"
   ]
  },
  {
   "cell_type": "code",
   "execution_count": 30,
   "id": "7bd9fe21",
   "metadata": {},
   "outputs": [],
   "source": [
    "df_GS_stats = pd.DataFrame.from_dict(GS_stats)"
   ]
  },
  {
   "cell_type": "code",
   "execution_count": 32,
   "id": "49538676",
   "metadata": {},
   "outputs": [],
   "source": [
    "df_GS_stats.to_csv('/Users/samueleferrucci/Documents/Coding/Projects/Tennis ML/data/raw/GS_stats.csv', sep=',', columns=df_GS_stats.columns, index=False)"
   ]
  },
  {
   "cell_type": "code",
   "execution_count": 1,
   "id": "6e895059",
   "metadata": {},
   "outputs": [],
   "source": [
    "import pandas as pd"
   ]
  },
  {
   "cell_type": "code",
   "execution_count": 2,
   "id": "79458618",
   "metadata": {},
   "outputs": [],
   "source": [
    "df = pd.read_csv('/Users/samueleferrucci/Documents/Coding/Projects/Tennis ML/data/clean/merged_matches.csv')"
   ]
  }
 ],
 "metadata": {
  "kernelspec": {
   "display_name": "selenium_env",
   "language": "python",
   "name": "python3"
  },
  "language_info": {
   "codemirror_mode": {
    "name": "ipython",
    "version": 3
   },
   "file_extension": ".py",
   "mimetype": "text/x-python",
   "name": "python",
   "nbconvert_exporter": "python",
   "pygments_lexer": "ipython3",
   "version": "3.9.21"
  }
 },
 "nbformat": 4,
 "nbformat_minor": 5
}
