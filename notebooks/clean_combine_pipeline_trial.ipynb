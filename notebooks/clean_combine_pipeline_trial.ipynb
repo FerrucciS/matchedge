{
 "cells": [
  {
   "cell_type": "code",
   "execution_count": null,
   "id": "8e000953",
   "metadata": {},
   "outputs": [
    {
     "ename": "ModuleNotFoundError",
     "evalue": "No module named 'scripts'",
     "output_type": "error",
     "traceback": [
      "\u001b[0;31m---------------------------------------------------------------------------\u001b[0m",
      "\u001b[0;31mModuleNotFoundError\u001b[0m                       Traceback (most recent call last)",
      "Cell \u001b[0;32mIn[9], line 6\u001b[0m\n\u001b[1;32m      4\u001b[0m \u001b[38;5;28;01mimport\u001b[39;00m\u001b[38;5;250m \u001b[39m\u001b[38;5;21;01ms3fs\u001b[39;00m\n\u001b[1;32m      5\u001b[0m \u001b[38;5;28;01mfrom\u001b[39;00m\u001b[38;5;250m \u001b[39m\u001b[38;5;21;01mdatetime\u001b[39;00m\u001b[38;5;250m \u001b[39m\u001b[38;5;28;01mimport\u001b[39;00m datetime\n\u001b[0;32m----> 6\u001b[0m \u001b[38;5;28;01mfrom\u001b[39;00m\u001b[38;5;250m \u001b[39m\u001b[38;5;21;01mscripts\u001b[39;00m\u001b[38;5;21;01m.\u001b[39;00m\u001b[38;5;21;01mclean_data\u001b[39;00m\u001b[38;5;250m \u001b[39m\u001b[38;5;28;01mimport\u001b[39;00m clean_results_df, clean_stats_df, update_player_listings, clean_rankings, clean_tournaments\n",
      "\u001b[0;31mModuleNotFoundError\u001b[0m: No module named 'scripts'"
     ]
    }
   ],
   "source": [
    "import pandas as pd\n",
    "from rapidfuzz import process, fuzz\n",
    "import numpy as np\n",
    "import s3fs\n",
    "from datetime import datetime\n",
    "from scripts.clean_data import clean_results_df, clean_stats_df, update_player_listings, clean_rankings, clean_tournaments"
   ]
  },
  {
   "cell_type": "markdown",
   "id": "dc2722e5",
   "metadata": {},
   "source": [
    "## Get last Scraped Date"
   ]
  },
  {
   "cell_type": "code",
   "execution_count": 8,
   "id": "3bd37e11",
   "metadata": {},
   "outputs": [],
   "source": [
    "fs = s3fs.S3FileSystem()\n",
    "date_file = \"s3://matchedge-pipeline/logs/last_scraped_date.csv\"\n",
    "\n",
    "# Step 1: Check if file exists and read last scrape date\n",
    "if fs.exists(date_file):\n",
    "    with fs.open(date_file, 'r') as f:\n",
    "        try:\n",
    "            last_scraped_df = pd.read_csv(f)\n",
    "            start_date = pd.to_datetime(last_scraped_df.iloc[0, 0])\n",
    "            file_date =last_scraped_df.iloc[0,0]                        # Format for opening files\n",
    "        except Exception as e:\n",
    "            raise FileNotFoundError(f\"Failed to read {date_file}: {e}\")\n",
    "else:\n",
    "    raise FileNotFoundError(f\"{date_file} does not exist in S3.\")"
   ]
  },
  {
   "cell_type": "markdown",
   "id": "682e0e99",
   "metadata": {},
   "source": [
    "## Update Player Archive\n",
    "### Load DataFrames"
   ]
  },
  {
   "cell_type": "code",
   "execution_count": null,
   "id": "ec7fd3a4",
   "metadata": {},
   "outputs": [],
   "source": [
    "df_top = pd.read_csv(f\"s3://matchedge-pipeline/data/raw/top_500_players_{file_date}.csv\", sep=\",\")\n",
    "df_all_tournament = pd.read_csv(f\"s3://matchedge-pipeline/data/raw/All_Tournaments_{file_date}.csv\", sep=\",\")\n",
    "df_results = pd.read_csv(f\"s3://matchedge-pipeline/data/raw/all_results_{file_date}.csv\", sep=\",\")\n",
    "df_all_stats = pd.read_csv(f's3://matchedge-pipeline/data/raw/all_stats_GS_{file_date}.csv', sep=\",\")"
   ]
  },
  {
   "cell_type": "code",
   "execution_count": null,
   "id": "47be63bc",
   "metadata": {},
   "outputs": [],
   "source": [
    "update_player_listings(df_live_rankings=df_top, df_results=df_results, df_stats=df_all_stats)"
   ]
  },
  {
   "cell_type": "markdown",
   "id": "b0fe8d1f",
   "metadata": {},
   "source": [
    "## Clean DataFrames"
   ]
  },
  {
   "cell_type": "code",
   "execution_count": null,
   "id": "bcc2eced",
   "metadata": {},
   "outputs": [],
   "source": [
    "df_top = clean_rankings(df_top)\n",
    "df_all_tournament = clean_tournaments(df_all_tournament)\n",
    "df_results = clean_results_df(df_results)"
   ]
  },
  {
   "cell_type": "markdown",
   "id": "724201e4",
   "metadata": {},
   "source": [
    "### Save"
   ]
  },
  {
   "cell_type": "code",
   "execution_count": null,
   "id": "230cb4b2",
   "metadata": {},
   "outputs": [],
   "source": [
    "df_top.to_csv('/Users/samueleferrucci/Documents/Coding/Projects/Tennis ML/data/clean/top_500_players.csv', sep=\",\", columns=df_top.columns, index=False)\n",
    "df_top.to_csv(\"s3://matchedge-pipeline/data/clean/top_500_players.csv\", sep=\",\", columns=df_top.columns, index=False)\n",
    "\n",
    "\n",
    "# df_all_tournament.to_csv('/Users/samueleferrucci/Documents/Coding/Projects/Tennis ML/data/clean/all_tournaments.csv', sep=',', columns=df_all_tournament.columns, index=False)\n",
    "# df_all_tournament.to_csv('s3://matchedge-pipeline/data/clean/all_tournaments.csv', sep=',', columns=df_all_tournament.columns, index=False)\n",
    "\n",
    "df_results.to_csv(f'/Users/samueleferrucci/Documents/Coding/Projects/Tennis ML/data/clean/all_results_{file_date}.csv', sep=',', columns=df_results.columns, index=False)\n",
    "df_results.to_csv(f's3://matchedge-pipeline/data/clean/all_results_{file_date}.csv', sep=',', columns=df_results.columns, index=False)"
   ]
  },
  {
   "cell_type": "markdown",
   "id": "5b67ea24",
   "metadata": {},
   "source": [
    "## Clean Stats"
   ]
  },
  {
   "cell_type": "code",
   "execution_count": null,
   "id": "a6fbc435",
   "metadata": {},
   "outputs": [],
   "source": [
    "df_all_stats = clean_stats_df(df_all_stats)"
   ]
  },
  {
   "cell_type": "markdown",
   "id": "52ea02dc",
   "metadata": {},
   "source": [
    "### Save"
   ]
  },
  {
   "cell_type": "code",
   "execution_count": null,
   "id": "60907750",
   "metadata": {},
   "outputs": [],
   "source": [
    "df_all_stats.to_csv(f'/Users/samueleferrucci/Documents/Coding/Projects/Tennis ML/data/clean/all_stats_{file_date}.csv', sep=',', columns=df_all_stats.columns, index=False)\n",
    "df_all_stats.to_csv(f\"s3://matchedge-pipeline/data/clean/all_stats_{file_date}.csv\", sep=',', columns=df_all_stats.columns, index=False)"
   ]
  },
  {
   "cell_type": "markdown",
   "id": "99eb24a7",
   "metadata": {},
   "source": []
  },
  {
   "cell_type": "markdown",
   "id": "62db2e43",
   "metadata": {},
   "source": [
    "## Combine"
   ]
  },
  {
   "cell_type": "markdown",
   "id": "41676baa",
   "metadata": {},
   "source": [
    "#### Combine tournament and results"
   ]
  },
  {
   "cell_type": "code",
   "execution_count": null,
   "id": "c8686389",
   "metadata": {},
   "outputs": [],
   "source": [
    "merged_tourn_results = combine_results_and_tourn(df_results, df_all_tournament)"
   ]
  },
  {
   "cell_type": "markdown",
   "id": "fc6d60b6",
   "metadata": {},
   "source": [
    "Combine above with stats"
   ]
  },
  {
   "cell_type": "code",
   "execution_count": null,
   "id": "6ddd1dcd",
   "metadata": {},
   "outputs": [],
   "source": [
    "merged_matches = combine_results_and_stats(df_all_stats, merged_tourn_results)"
   ]
  },
  {
   "cell_type": "code",
   "execution_count": null,
   "id": "7deb9615",
   "metadata": {},
   "outputs": [],
   "source": [
    "merged_matches.to_csv(f'/Users/samueleferrucci/Documents/Coding/Projects/Tennis ML/data/clean/merged_matches_{file_date}.csv', sep=',', columns=merged_matches.columns, index=False)\n",
    "merged_matches.to_csv(f's3://matchedge-pipeline/data/clean/merged_matches_{file_date}.csv', sep=',', columns=merged_matches.columns, index=False)"
   ]
  },
  {
   "cell_type": "markdown",
   "id": "3a501d99",
   "metadata": {},
   "source": [
    "## Concat"
   ]
  },
  {
   "cell_type": "markdown",
   "id": "82d79ebb",
   "metadata": {},
   "source": []
  },
  {
   "cell_type": "code",
   "execution_count": null,
   "id": "588ca712",
   "metadata": {},
   "outputs": [],
   "source": [
    "all_merged_matches = pd.read_csv(\"s3://matchedge-pipeline/data/clean/merged_matches.csv\")\n",
    "# Create backup\n",
    "all_merged_matches.to_csv(f\"s3://matchedge-pipeline/data/clean/merged_matches_{file_date}.csv\", sep=',', columns=all_merged_matches.columns, index=False)\n",
    "\n",
    "\n",
    "all_merged_matches = pd.concat([all_merged_matches, merged_matches], ignore_index=True)\n",
    "all_merged_matches.to_csv(\"s3://matchedge-pipeline/data/clean/merged_matches.csv\", sep=',', columns=all_merged_matches.columns, index=False)"
   ]
  },
  {
   "cell_type": "code",
   "execution_count": 52,
   "id": "0ee60b79",
   "metadata": {},
   "outputs": [
    {
     "data": {
      "application/vnd.microsoft.datawrangler.viewer.v0+json": {
       "columns": [
        {
         "name": "index",
         "rawType": "int64",
         "type": "integer"
        },
        {
         "name": "0",
         "rawType": "object",
         "type": "string"
        }
       ],
       "ref": "3c761a32-e8a9-4920-a388-f51f9c682714",
       "rows": [
        [
         "0",
         "2025-07-06"
        ]
       ],
       "shape": {
        "columns": 1,
        "rows": 1
       }
      },
      "text/html": [
       "<div>\n",
       "<style scoped>\n",
       "    .dataframe tbody tr th:only-of-type {\n",
       "        vertical-align: middle;\n",
       "    }\n",
       "\n",
       "    .dataframe tbody tr th {\n",
       "        vertical-align: top;\n",
       "    }\n",
       "\n",
       "    .dataframe thead th {\n",
       "        text-align: right;\n",
       "    }\n",
       "</style>\n",
       "<table border=\"1\" class=\"dataframe\">\n",
       "  <thead>\n",
       "    <tr style=\"text-align: right;\">\n",
       "      <th></th>\n",
       "      <th>0</th>\n",
       "    </tr>\n",
       "  </thead>\n",
       "  <tbody>\n",
       "    <tr>\n",
       "      <th>0</th>\n",
       "      <td>2025-07-06</td>\n",
       "    </tr>\n",
       "  </tbody>\n",
       "</table>\n",
       "</div>"
      ],
      "text/plain": [
       "            0\n",
       "0  2025-07-06"
      ]
     },
     "execution_count": 52,
     "metadata": {},
     "output_type": "execute_result"
    }
   ],
   "source": [
    "date = pd.read_csv(\"s3://matchedge-pipeline/logs/last_scraped_date.csv\")\n",
    "date"
   ]
  },
  {
   "cell_type": "code",
   "execution_count": null,
   "id": "f3640207",
   "metadata": {},
   "outputs": [],
   "source": []
  }
 ],
 "metadata": {
  "kernelspec": {
   "display_name": "selenium_env",
   "language": "python",
   "name": "python3"
  },
  "language_info": {
   "codemirror_mode": {
    "name": "ipython",
    "version": 3
   },
   "file_extension": ".py",
   "mimetype": "text/x-python",
   "name": "python",
   "nbconvert_exporter": "python",
   "pygments_lexer": "ipython3",
   "version": "3.9.21"
  }
 },
 "nbformat": 4,
 "nbformat_minor": 5
}
