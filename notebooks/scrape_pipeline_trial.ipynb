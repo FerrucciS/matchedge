{
 "cells": [
  {
   "cell_type": "code",
   "execution_count": 8,
   "id": "3e2e1191",
   "metadata": {},
   "outputs": [],
   "source": [
    "from selenium import webdriver\n",
    "from selenium.webdriver.chrome.service import Service\n",
    "from webdriver_manager.chrome import ChromeDriverManager\n",
    "from selenium.webdriver.chrome.options import Options\n",
    "from bs4 import BeautifulSoup\n",
    "import random\n",
    "import time\n",
    "from datetime import datetime, timedelta\n",
    "import pandas as pd\n",
    "import json\n",
    "import requests\n",
    "import re\n",
    "import os\n",
    "import numpy as np\n",
    "import pickle\n",
    "from scraping_utils import get_tournament, create_driver, get_live_player_rankings, extract_results_url, get_tournament_results, get_stat_names, get_stats"
   ]
  },
  {
   "cell_type": "markdown",
   "id": "99f9b246",
   "metadata": {},
   "source": [
    "## Get Tournaments\n",
    "\n",
    "\n",
    "Done through link. Will get all finished tournaments"
   ]
  },
  {
   "cell_type": "code",
   "execution_count": 2,
   "id": "7682c2d1",
   "metadata": {},
   "outputs": [],
   "source": [
    "                                                              # Launch browser\n",
    "tourn_archive_url = [\"https://www.atptour.com/en/scores/results-archive?year=2025\"]     # ATP tournamnet archive\n",
    "df_tournaments = get_tournament(tourn_archive_url = tourn_archive_url, save_cache=False)\n"
   ]
  },
  {
   "cell_type": "code",
   "execution_count": 3,
   "id": "ed755d71",
   "metadata": {},
   "outputs": [
    {
     "data": {
      "application/vnd.microsoft.datawrangler.viewer.v0+json": {
       "columns": [
        {
         "name": "index",
         "rawType": "int64",
         "type": "integer"
        },
        {
         "name": "id",
         "rawType": "object",
         "type": "string"
        },
        {
         "name": "name",
         "rawType": "object",
         "type": "string"
        },
        {
         "name": "level",
         "rawType": "object",
         "type": "string"
        },
        {
         "name": "location",
         "rawType": "object",
         "type": "string"
        },
        {
         "name": "end_date",
         "rawType": "object",
         "type": "string"
        },
        {
         "name": "url",
         "rawType": "object",
         "type": "string"
        }
       ],
       "ref": "75744e2f-1aa6-499a-893e-75d02d2d2579",
       "rows": [
        [
         "0",
         "339",
         "Brisbane International presented by Evie",
         "ATP 250",
         "Brisbane, Australia",
         "2025-01-05",
         "https://www.atptour.com/en/tournaments/brisbane/339/overview"
        ],
        [
         "1",
         "336",
         "Bank of China Hong Kong Tennis Open",
         "ATP 250",
         "Hong Kong, Hong Kong",
         "2025-01-05",
         "https://www.atptour.com/en/tournaments/hong-kong/336/overview"
        ],
        [
         "2",
         "8998",
         "Adelaide International",
         "ATP 250",
         "Adelaide, Australia",
         "2025-01-11",
         "https://www.atptour.com/en/tournaments/adelaide/8998/overview"
        ],
        [
         "3",
         "301",
         "ASB Classic",
         "ATP 250",
         "Auckland, New Zealand",
         "2025-01-11",
         "https://www.atptour.com/en/tournaments/auckland/301/overview"
        ],
        [
         "4",
         "580",
         "Australian Open",
         "Grand Slam",
         "Melbourne, Australia",
         "2025-01-26",
         "https://www.atptour.com/en/tournaments/australian-open/580/overview"
        ],
        [
         "5",
         "375",
         "Open Occitanie",
         "ATP 250",
         "Montpellier, France",
         "2025-02-02",
         "https://www.atptour.com/en/tournaments/montpellier/375/overview"
        ],
        [
         "6",
         "424",
         "Dallas Open",
         "ATP 500",
         "Dallas, United States",
         "2025-02-09",
         "https://www.atptour.com/en/tournaments/dallas/424/overview"
        ],
        [
         "7",
         "407",
         "ABN AMRO Open",
         "ATP 500",
         "Rotterdam, Netherlands",
         "2025-02-09",
         "https://www.atptour.com/en/tournaments/rotterdam/407/overview"
        ],
        [
         "8",
         "496",
         "Open 13 Provence",
         "ATP 250",
         "Marseille, France",
         "2025-02-16",
         "https://www.atptour.com/en/tournaments/marseille/496/overview"
        ],
        [
         "9",
         "499",
         "Delray Beach Open",
         "ATP 250",
         "Delray Beach, United States",
         "2025-02-16",
         "https://www.atptour.com/en/tournaments/delray-beach/499/overview"
        ],
        [
         "10",
         "506",
         "IEB+ Argentina Open",
         "ATP 250",
         "Buenos Aires, Argentina",
         "2025-02-16",
         "https://www.atptour.com/en/tournaments/buenos-aires/506/overview"
        ],
        [
         "11",
         "451",
         "Qatar ExxonMobil Open",
         "ATP 500",
         "Doha, Qatar",
         "2025-02-22",
         "https://www.atptour.com/en/tournaments/doha/451/overview"
        ],
        [
         "12",
         "6932",
         "Rio Open presented by Claro",
         "ATP 500",
         "Rio de Janeiro, Brazil",
         "2025-02-23",
         "https://www.atptour.com/en/tournaments/rio-de-janeiro/6932/overview"
        ],
        [
         "13",
         "495",
         "Dubai Duty Free Tennis Championships",
         "ATP 500",
         "Dubai, United Arab Emirates",
         "2025-03-01",
         "https://www.atptour.com/en/tournaments/dubai/495/overview"
        ],
        [
         "14",
         "807",
         "Abierto Mexicano Telcel presentado por HSBC",
         "ATP 500",
         "Acapulco, Mexico",
         "2025-03-01",
         "https://www.atptour.com/en/tournaments/acapulco/807/overview"
        ],
        [
         "15",
         "8996",
         "Movistar Chile Open",
         "ATP 250",
         "Santiago, Chile",
         "2025-03-02",
         "https://www.atptour.com/en/tournaments/santiago/8996/overview"
        ],
        [
         "16",
         "404",
         "BNP Paribas Open",
         "ATP 1000",
         "Indian Wells, United States",
         "2025-03-16",
         "https://www.atptour.com/en/tournaments/indian-wells/404/overview"
        ],
        [
         "17",
         "403",
         "Miami Open presented by Itau",
         "ATP 1000",
         "Miami, United States",
         "2025-03-30",
         "https://www.atptour.com/en/tournaments/miami/403/overview"
        ],
        [
         "18",
         "717",
         "Fayez Sarofim & Co. U.S. Men's Clay Court Championship",
         "ATP 250",
         "Houston, United States",
         "2025-04-06",
         "https://www.atptour.com/en/tournaments/houston/717/overview"
        ],
        [
         "19",
         "360",
         "Grand Prix Hassan II",
         "ATP 250",
         "Marrakech, Morocco",
         "2025-04-06",
         "https://www.atptour.com/en/tournaments/marrakech/360/overview"
        ],
        [
         "20",
         "4462",
         "Tiriac Open presented by UniCredit Bank",
         "ATP 250",
         "Bucharest, Romania",
         "2025-04-06",
         "https://www.atptour.com/en/tournaments/bucharest/4462/overview"
        ],
        [
         "21",
         "410",
         "Rolex Monte-Carlo Masters",
         "ATP 1000",
         "Monte-Carlo, Monaco",
         "2025-04-13",
         "https://www.atptour.com/en/tournaments/monte-carlo/410/overview"
        ],
        [
         "22",
         "425",
         "Barcelona Open Banc Sabadell",
         "ATP 500",
         "Barcelona, Spain",
         "2025-04-20",
         "https://www.atptour.com/en/tournaments/barcelona/425/overview"
        ],
        [
         "23",
         "308",
         "BMW Open by Bitpanda",
         "ATP 500",
         "Munich, Germany",
         "2025-04-20",
         "https://www.atptour.com/en/tournaments/munich/308/overview"
        ],
        [
         "24",
         "1536",
         "Mutua Madrid Open",
         "ATP 1000",
         "Madrid, Spain",
         "2025-05-04",
         "https://www.atptour.com/en/tournaments/madrid/1536/overview"
        ],
        [
         "25",
         "416",
         "Internazionali BNL d'Italia",
         "ATP 1000",
         "Rome, Italy",
         "2025-05-18",
         "https://www.atptour.com/en/tournaments/rome/416/overview"
        ],
        [
         "26",
         "414",
         "Bitpanda Hamburg Open",
         "ATP 500",
         "Hamburg, Germany",
         "2025-05-24",
         "https://www.atptour.com/en/tournaments/hamburg/414/overview"
        ],
        [
         "27",
         "322",
         "Gonet Geneva Open",
         "ATP 250",
         "Geneva, Switzerland",
         "2025-05-24",
         "https://www.atptour.com/en/tournaments/geneva/322/overview"
        ],
        [
         "28",
         "520",
         "Roland Garros",
         "Grand Slam",
         "Paris, France",
         "2025-06-08",
         "https://www.atptour.com/en/tournaments/roland-garros/520/overview"
        ],
        [
         "29",
         "321",
         "BOSS OPEN",
         "ATP 250",
         "Stuttgart, Germany",
         "2025-06-15",
         "https://www.atptour.com/en/tournaments/stuttgart/321/overview"
        ],
        [
         "30",
         "440",
         "Libema Open",
         "ATP 250",
         "'s-Hertogenbosch, Netherlands",
         "2025-06-15",
         "https://www.atptour.com/en/tournaments/s-hertogenbosch/440/overview"
        ],
        [
         "31",
         "311",
         "HSBC Championships",
         "ATP 500",
         "London, Great Britain",
         "2025-06-22",
         "https://www.atptour.com/en/tournaments/london/311/overview"
        ],
        [
         "32",
         "500",
         "Terra Wortmann Open",
         "ATP 500",
         "Halle, Germany",
         "2025-06-22",
         "https://www.atptour.com/en/tournaments/halle/500/overview"
        ],
        [
         "33",
         "8994",
         "Mallorca Championships presented by ecotrans Group",
         "ATP 250",
         "Mallorca, Spain",
         "2025-06-28",
         "https://www.atptour.com/en/tournaments/mallorca/8994/overview"
        ],
        [
         "34",
         "741",
         "Lexus Eastbourne Open",
         "ATP 250",
         "Eastbourne, Great Britain",
         "2025-06-28",
         "https://www.atptour.com/en/tournaments/eastbourne/741/overview"
        ],
        [
         "35",
         "540",
         "Wimbledon",
         "Grand Slam",
         "London, Great Britain",
         "2025-07-13",
         "https://www.atptour.com/en/tournaments/wimbledon/540/overview"
        ],
        [
         "36",
         "7480",
         "Mifel Tennis Open by Telcel Oppo",
         "ATP 250",
         "Los Cabos, Mexico",
         "2025-07-19",
         "https://www.atptour.com/en/tournaments/los-cabos/7480/overview"
        ],
        [
         "37",
         "314",
         "EFG Swiss Open Gstaad",
         "ATP 250",
         "Gstaad, Switzerland",
         "2025-07-20",
         "https://www.atptour.com/en/tournaments/gstaad/314/overview"
        ],
        [
         "38",
         "316",
         "Nordea Open",
         "ATP 250",
         "Bastad, Sweden",
         "2025-07-20",
         "https://www.atptour.com/en/tournaments/bastad/316/overview"
        ],
        [
         "39",
         "439",
         "Plava Laguna Croatia Open Umag",
         "ATP 250",
         "Umag, Croatia",
         "2025-07-26",
         "https://www.atptour.com/en/tournaments/umag/439/overview"
        ],
        [
         "40",
         "418",
         "Mubadala Citi DC Open",
         "ATP 500",
         "Washington, United States",
         "2025-07-27",
         "https://www.atptour.com/en/tournaments/washington/418/overview"
        ],
        [
         "41",
         "319",
         "Generali Open",
         "ATP 250",
         "Kitzbuhel, Austria",
         "2025-07-26",
         "https://www.atptour.com/en/tournaments/kitzbuhel/319/overview"
        ]
       ],
       "shape": {
        "columns": 6,
        "rows": 42
       }
      },
      "text/html": [
       "<div>\n",
       "<style scoped>\n",
       "    .dataframe tbody tr th:only-of-type {\n",
       "        vertical-align: middle;\n",
       "    }\n",
       "\n",
       "    .dataframe tbody tr th {\n",
       "        vertical-align: top;\n",
       "    }\n",
       "\n",
       "    .dataframe thead th {\n",
       "        text-align: right;\n",
       "    }\n",
       "</style>\n",
       "<table border=\"1\" class=\"dataframe\">\n",
       "  <thead>\n",
       "    <tr style=\"text-align: right;\">\n",
       "      <th></th>\n",
       "      <th>id</th>\n",
       "      <th>name</th>\n",
       "      <th>level</th>\n",
       "      <th>location</th>\n",
       "      <th>end_date</th>\n",
       "      <th>url</th>\n",
       "    </tr>\n",
       "  </thead>\n",
       "  <tbody>\n",
       "    <tr>\n",
       "      <th>0</th>\n",
       "      <td>339</td>\n",
       "      <td>Brisbane International presented by Evie</td>\n",
       "      <td>ATP 250</td>\n",
       "      <td>Brisbane, Australia</td>\n",
       "      <td>2025-01-05</td>\n",
       "      <td>https://www.atptour.com/en/tournaments/brisban...</td>\n",
       "    </tr>\n",
       "    <tr>\n",
       "      <th>1</th>\n",
       "      <td>336</td>\n",
       "      <td>Bank of China Hong Kong Tennis Open</td>\n",
       "      <td>ATP 250</td>\n",
       "      <td>Hong Kong, Hong Kong</td>\n",
       "      <td>2025-01-05</td>\n",
       "      <td>https://www.atptour.com/en/tournaments/hong-ko...</td>\n",
       "    </tr>\n",
       "    <tr>\n",
       "      <th>2</th>\n",
       "      <td>8998</td>\n",
       "      <td>Adelaide International</td>\n",
       "      <td>ATP 250</td>\n",
       "      <td>Adelaide, Australia</td>\n",
       "      <td>2025-01-11</td>\n",
       "      <td>https://www.atptour.com/en/tournaments/adelaid...</td>\n",
       "    </tr>\n",
       "    <tr>\n",
       "      <th>3</th>\n",
       "      <td>301</td>\n",
       "      <td>ASB Classic</td>\n",
       "      <td>ATP 250</td>\n",
       "      <td>Auckland, New Zealand</td>\n",
       "      <td>2025-01-11</td>\n",
       "      <td>https://www.atptour.com/en/tournaments/aucklan...</td>\n",
       "    </tr>\n",
       "    <tr>\n",
       "      <th>4</th>\n",
       "      <td>580</td>\n",
       "      <td>Australian Open</td>\n",
       "      <td>Grand Slam</td>\n",
       "      <td>Melbourne, Australia</td>\n",
       "      <td>2025-01-26</td>\n",
       "      <td>https://www.atptour.com/en/tournaments/austral...</td>\n",
       "    </tr>\n",
       "    <tr>\n",
       "      <th>5</th>\n",
       "      <td>375</td>\n",
       "      <td>Open Occitanie</td>\n",
       "      <td>ATP 250</td>\n",
       "      <td>Montpellier, France</td>\n",
       "      <td>2025-02-02</td>\n",
       "      <td>https://www.atptour.com/en/tournaments/montpel...</td>\n",
       "    </tr>\n",
       "    <tr>\n",
       "      <th>6</th>\n",
       "      <td>424</td>\n",
       "      <td>Dallas Open</td>\n",
       "      <td>ATP 500</td>\n",
       "      <td>Dallas, United States</td>\n",
       "      <td>2025-02-09</td>\n",
       "      <td>https://www.atptour.com/en/tournaments/dallas/...</td>\n",
       "    </tr>\n",
       "    <tr>\n",
       "      <th>7</th>\n",
       "      <td>407</td>\n",
       "      <td>ABN AMRO Open</td>\n",
       "      <td>ATP 500</td>\n",
       "      <td>Rotterdam, Netherlands</td>\n",
       "      <td>2025-02-09</td>\n",
       "      <td>https://www.atptour.com/en/tournaments/rotterd...</td>\n",
       "    </tr>\n",
       "    <tr>\n",
       "      <th>8</th>\n",
       "      <td>496</td>\n",
       "      <td>Open 13 Provence</td>\n",
       "      <td>ATP 250</td>\n",
       "      <td>Marseille, France</td>\n",
       "      <td>2025-02-16</td>\n",
       "      <td>https://www.atptour.com/en/tournaments/marseil...</td>\n",
       "    </tr>\n",
       "    <tr>\n",
       "      <th>9</th>\n",
       "      <td>499</td>\n",
       "      <td>Delray Beach Open</td>\n",
       "      <td>ATP 250</td>\n",
       "      <td>Delray Beach, United States</td>\n",
       "      <td>2025-02-16</td>\n",
       "      <td>https://www.atptour.com/en/tournaments/delray-...</td>\n",
       "    </tr>\n",
       "    <tr>\n",
       "      <th>10</th>\n",
       "      <td>506</td>\n",
       "      <td>IEB+ Argentina Open</td>\n",
       "      <td>ATP 250</td>\n",
       "      <td>Buenos Aires, Argentina</td>\n",
       "      <td>2025-02-16</td>\n",
       "      <td>https://www.atptour.com/en/tournaments/buenos-...</td>\n",
       "    </tr>\n",
       "    <tr>\n",
       "      <th>11</th>\n",
       "      <td>451</td>\n",
       "      <td>Qatar ExxonMobil Open</td>\n",
       "      <td>ATP 500</td>\n",
       "      <td>Doha, Qatar</td>\n",
       "      <td>2025-02-22</td>\n",
       "      <td>https://www.atptour.com/en/tournaments/doha/45...</td>\n",
       "    </tr>\n",
       "    <tr>\n",
       "      <th>12</th>\n",
       "      <td>6932</td>\n",
       "      <td>Rio Open presented by Claro</td>\n",
       "      <td>ATP 500</td>\n",
       "      <td>Rio de Janeiro, Brazil</td>\n",
       "      <td>2025-02-23</td>\n",
       "      <td>https://www.atptour.com/en/tournaments/rio-de-...</td>\n",
       "    </tr>\n",
       "    <tr>\n",
       "      <th>13</th>\n",
       "      <td>495</td>\n",
       "      <td>Dubai Duty Free Tennis Championships</td>\n",
       "      <td>ATP 500</td>\n",
       "      <td>Dubai, United Arab Emirates</td>\n",
       "      <td>2025-03-01</td>\n",
       "      <td>https://www.atptour.com/en/tournaments/dubai/4...</td>\n",
       "    </tr>\n",
       "    <tr>\n",
       "      <th>14</th>\n",
       "      <td>807</td>\n",
       "      <td>Abierto Mexicano Telcel presentado por HSBC</td>\n",
       "      <td>ATP 500</td>\n",
       "      <td>Acapulco, Mexico</td>\n",
       "      <td>2025-03-01</td>\n",
       "      <td>https://www.atptour.com/en/tournaments/acapulc...</td>\n",
       "    </tr>\n",
       "    <tr>\n",
       "      <th>15</th>\n",
       "      <td>8996</td>\n",
       "      <td>Movistar Chile Open</td>\n",
       "      <td>ATP 250</td>\n",
       "      <td>Santiago, Chile</td>\n",
       "      <td>2025-03-02</td>\n",
       "      <td>https://www.atptour.com/en/tournaments/santiag...</td>\n",
       "    </tr>\n",
       "    <tr>\n",
       "      <th>16</th>\n",
       "      <td>404</td>\n",
       "      <td>BNP Paribas Open</td>\n",
       "      <td>ATP 1000</td>\n",
       "      <td>Indian Wells, United States</td>\n",
       "      <td>2025-03-16</td>\n",
       "      <td>https://www.atptour.com/en/tournaments/indian-...</td>\n",
       "    </tr>\n",
       "    <tr>\n",
       "      <th>17</th>\n",
       "      <td>403</td>\n",
       "      <td>Miami Open presented by Itau</td>\n",
       "      <td>ATP 1000</td>\n",
       "      <td>Miami, United States</td>\n",
       "      <td>2025-03-30</td>\n",
       "      <td>https://www.atptour.com/en/tournaments/miami/4...</td>\n",
       "    </tr>\n",
       "    <tr>\n",
       "      <th>18</th>\n",
       "      <td>717</td>\n",
       "      <td>Fayez Sarofim &amp; Co. U.S. Men's Clay Court Cham...</td>\n",
       "      <td>ATP 250</td>\n",
       "      <td>Houston, United States</td>\n",
       "      <td>2025-04-06</td>\n",
       "      <td>https://www.atptour.com/en/tournaments/houston...</td>\n",
       "    </tr>\n",
       "    <tr>\n",
       "      <th>19</th>\n",
       "      <td>360</td>\n",
       "      <td>Grand Prix Hassan II</td>\n",
       "      <td>ATP 250</td>\n",
       "      <td>Marrakech, Morocco</td>\n",
       "      <td>2025-04-06</td>\n",
       "      <td>https://www.atptour.com/en/tournaments/marrake...</td>\n",
       "    </tr>\n",
       "    <tr>\n",
       "      <th>20</th>\n",
       "      <td>4462</td>\n",
       "      <td>Tiriac Open presented by UniCredit Bank</td>\n",
       "      <td>ATP 250</td>\n",
       "      <td>Bucharest, Romania</td>\n",
       "      <td>2025-04-06</td>\n",
       "      <td>https://www.atptour.com/en/tournaments/buchare...</td>\n",
       "    </tr>\n",
       "    <tr>\n",
       "      <th>21</th>\n",
       "      <td>410</td>\n",
       "      <td>Rolex Monte-Carlo Masters</td>\n",
       "      <td>ATP 1000</td>\n",
       "      <td>Monte-Carlo, Monaco</td>\n",
       "      <td>2025-04-13</td>\n",
       "      <td>https://www.atptour.com/en/tournaments/monte-c...</td>\n",
       "    </tr>\n",
       "    <tr>\n",
       "      <th>22</th>\n",
       "      <td>425</td>\n",
       "      <td>Barcelona Open Banc Sabadell</td>\n",
       "      <td>ATP 500</td>\n",
       "      <td>Barcelona, Spain</td>\n",
       "      <td>2025-04-20</td>\n",
       "      <td>https://www.atptour.com/en/tournaments/barcelo...</td>\n",
       "    </tr>\n",
       "    <tr>\n",
       "      <th>23</th>\n",
       "      <td>308</td>\n",
       "      <td>BMW Open by Bitpanda</td>\n",
       "      <td>ATP 500</td>\n",
       "      <td>Munich, Germany</td>\n",
       "      <td>2025-04-20</td>\n",
       "      <td>https://www.atptour.com/en/tournaments/munich/...</td>\n",
       "    </tr>\n",
       "    <tr>\n",
       "      <th>24</th>\n",
       "      <td>1536</td>\n",
       "      <td>Mutua Madrid Open</td>\n",
       "      <td>ATP 1000</td>\n",
       "      <td>Madrid, Spain</td>\n",
       "      <td>2025-05-04</td>\n",
       "      <td>https://www.atptour.com/en/tournaments/madrid/...</td>\n",
       "    </tr>\n",
       "    <tr>\n",
       "      <th>25</th>\n",
       "      <td>416</td>\n",
       "      <td>Internazionali BNL d'Italia</td>\n",
       "      <td>ATP 1000</td>\n",
       "      <td>Rome, Italy</td>\n",
       "      <td>2025-05-18</td>\n",
       "      <td>https://www.atptour.com/en/tournaments/rome/41...</td>\n",
       "    </tr>\n",
       "    <tr>\n",
       "      <th>26</th>\n",
       "      <td>414</td>\n",
       "      <td>Bitpanda Hamburg Open</td>\n",
       "      <td>ATP 500</td>\n",
       "      <td>Hamburg, Germany</td>\n",
       "      <td>2025-05-24</td>\n",
       "      <td>https://www.atptour.com/en/tournaments/hamburg...</td>\n",
       "    </tr>\n",
       "    <tr>\n",
       "      <th>27</th>\n",
       "      <td>322</td>\n",
       "      <td>Gonet Geneva Open</td>\n",
       "      <td>ATP 250</td>\n",
       "      <td>Geneva, Switzerland</td>\n",
       "      <td>2025-05-24</td>\n",
       "      <td>https://www.atptour.com/en/tournaments/geneva/...</td>\n",
       "    </tr>\n",
       "    <tr>\n",
       "      <th>28</th>\n",
       "      <td>520</td>\n",
       "      <td>Roland Garros</td>\n",
       "      <td>Grand Slam</td>\n",
       "      <td>Paris, France</td>\n",
       "      <td>2025-06-08</td>\n",
       "      <td>https://www.atptour.com/en/tournaments/roland-...</td>\n",
       "    </tr>\n",
       "    <tr>\n",
       "      <th>29</th>\n",
       "      <td>321</td>\n",
       "      <td>BOSS OPEN</td>\n",
       "      <td>ATP 250</td>\n",
       "      <td>Stuttgart, Germany</td>\n",
       "      <td>2025-06-15</td>\n",
       "      <td>https://www.atptour.com/en/tournaments/stuttga...</td>\n",
       "    </tr>\n",
       "    <tr>\n",
       "      <th>30</th>\n",
       "      <td>440</td>\n",
       "      <td>Libema Open</td>\n",
       "      <td>ATP 250</td>\n",
       "      <td>'s-Hertogenbosch, Netherlands</td>\n",
       "      <td>2025-06-15</td>\n",
       "      <td>https://www.atptour.com/en/tournaments/s-herto...</td>\n",
       "    </tr>\n",
       "    <tr>\n",
       "      <th>31</th>\n",
       "      <td>311</td>\n",
       "      <td>HSBC Championships</td>\n",
       "      <td>ATP 500</td>\n",
       "      <td>London, Great Britain</td>\n",
       "      <td>2025-06-22</td>\n",
       "      <td>https://www.atptour.com/en/tournaments/london/...</td>\n",
       "    </tr>\n",
       "    <tr>\n",
       "      <th>32</th>\n",
       "      <td>500</td>\n",
       "      <td>Terra Wortmann Open</td>\n",
       "      <td>ATP 500</td>\n",
       "      <td>Halle, Germany</td>\n",
       "      <td>2025-06-22</td>\n",
       "      <td>https://www.atptour.com/en/tournaments/halle/5...</td>\n",
       "    </tr>\n",
       "    <tr>\n",
       "      <th>33</th>\n",
       "      <td>8994</td>\n",
       "      <td>Mallorca Championships presented by ecotrans G...</td>\n",
       "      <td>ATP 250</td>\n",
       "      <td>Mallorca, Spain</td>\n",
       "      <td>2025-06-28</td>\n",
       "      <td>https://www.atptour.com/en/tournaments/mallorc...</td>\n",
       "    </tr>\n",
       "    <tr>\n",
       "      <th>34</th>\n",
       "      <td>741</td>\n",
       "      <td>Lexus Eastbourne Open</td>\n",
       "      <td>ATP 250</td>\n",
       "      <td>Eastbourne, Great Britain</td>\n",
       "      <td>2025-06-28</td>\n",
       "      <td>https://www.atptour.com/en/tournaments/eastbou...</td>\n",
       "    </tr>\n",
       "    <tr>\n",
       "      <th>35</th>\n",
       "      <td>540</td>\n",
       "      <td>Wimbledon</td>\n",
       "      <td>Grand Slam</td>\n",
       "      <td>London, Great Britain</td>\n",
       "      <td>2025-07-13</td>\n",
       "      <td>https://www.atptour.com/en/tournaments/wimbled...</td>\n",
       "    </tr>\n",
       "    <tr>\n",
       "      <th>36</th>\n",
       "      <td>7480</td>\n",
       "      <td>Mifel Tennis Open by Telcel Oppo</td>\n",
       "      <td>ATP 250</td>\n",
       "      <td>Los Cabos, Mexico</td>\n",
       "      <td>2025-07-19</td>\n",
       "      <td>https://www.atptour.com/en/tournaments/los-cab...</td>\n",
       "    </tr>\n",
       "    <tr>\n",
       "      <th>37</th>\n",
       "      <td>314</td>\n",
       "      <td>EFG Swiss Open Gstaad</td>\n",
       "      <td>ATP 250</td>\n",
       "      <td>Gstaad, Switzerland</td>\n",
       "      <td>2025-07-20</td>\n",
       "      <td>https://www.atptour.com/en/tournaments/gstaad/...</td>\n",
       "    </tr>\n",
       "    <tr>\n",
       "      <th>38</th>\n",
       "      <td>316</td>\n",
       "      <td>Nordea Open</td>\n",
       "      <td>ATP 250</td>\n",
       "      <td>Bastad, Sweden</td>\n",
       "      <td>2025-07-20</td>\n",
       "      <td>https://www.atptour.com/en/tournaments/bastad/...</td>\n",
       "    </tr>\n",
       "    <tr>\n",
       "      <th>39</th>\n",
       "      <td>439</td>\n",
       "      <td>Plava Laguna Croatia Open Umag</td>\n",
       "      <td>ATP 250</td>\n",
       "      <td>Umag, Croatia</td>\n",
       "      <td>2025-07-26</td>\n",
       "      <td>https://www.atptour.com/en/tournaments/umag/43...</td>\n",
       "    </tr>\n",
       "    <tr>\n",
       "      <th>40</th>\n",
       "      <td>418</td>\n",
       "      <td>Mubadala Citi DC Open</td>\n",
       "      <td>ATP 500</td>\n",
       "      <td>Washington, United States</td>\n",
       "      <td>2025-07-27</td>\n",
       "      <td>https://www.atptour.com/en/tournaments/washing...</td>\n",
       "    </tr>\n",
       "    <tr>\n",
       "      <th>41</th>\n",
       "      <td>319</td>\n",
       "      <td>Generali Open</td>\n",
       "      <td>ATP 250</td>\n",
       "      <td>Kitzbuhel, Austria</td>\n",
       "      <td>2025-07-26</td>\n",
       "      <td>https://www.atptour.com/en/tournaments/kitzbuh...</td>\n",
       "    </tr>\n",
       "  </tbody>\n",
       "</table>\n",
       "</div>"
      ],
      "text/plain": [
       "      id                                               name       level  \\\n",
       "0    339           Brisbane International presented by Evie     ATP 250   \n",
       "1    336                Bank of China Hong Kong Tennis Open     ATP 250   \n",
       "2   8998                             Adelaide International     ATP 250   \n",
       "3    301                                        ASB Classic     ATP 250   \n",
       "4    580                                    Australian Open  Grand Slam   \n",
       "5    375                                     Open Occitanie     ATP 250   \n",
       "6    424                                        Dallas Open     ATP 500   \n",
       "7    407                                      ABN AMRO Open     ATP 500   \n",
       "8    496                                   Open 13 Provence     ATP 250   \n",
       "9    499                                  Delray Beach Open     ATP 250   \n",
       "10   506                                IEB+ Argentina Open     ATP 250   \n",
       "11   451                              Qatar ExxonMobil Open     ATP 500   \n",
       "12  6932                        Rio Open presented by Claro     ATP 500   \n",
       "13   495               Dubai Duty Free Tennis Championships     ATP 500   \n",
       "14   807        Abierto Mexicano Telcel presentado por HSBC     ATP 500   \n",
       "15  8996                                Movistar Chile Open     ATP 250   \n",
       "16   404                                   BNP Paribas Open    ATP 1000   \n",
       "17   403                       Miami Open presented by Itau    ATP 1000   \n",
       "18   717  Fayez Sarofim & Co. U.S. Men's Clay Court Cham...     ATP 250   \n",
       "19   360                               Grand Prix Hassan II     ATP 250   \n",
       "20  4462            Tiriac Open presented by UniCredit Bank     ATP 250   \n",
       "21   410                          Rolex Monte-Carlo Masters    ATP 1000   \n",
       "22   425                       Barcelona Open Banc Sabadell     ATP 500   \n",
       "23   308                               BMW Open by Bitpanda     ATP 500   \n",
       "24  1536                                  Mutua Madrid Open    ATP 1000   \n",
       "25   416                        Internazionali BNL d'Italia    ATP 1000   \n",
       "26   414                              Bitpanda Hamburg Open     ATP 500   \n",
       "27   322                                  Gonet Geneva Open     ATP 250   \n",
       "28   520                                      Roland Garros  Grand Slam   \n",
       "29   321                                          BOSS OPEN     ATP 250   \n",
       "30   440                                        Libema Open     ATP 250   \n",
       "31   311                                 HSBC Championships     ATP 500   \n",
       "32   500                                Terra Wortmann Open     ATP 500   \n",
       "33  8994  Mallorca Championships presented by ecotrans G...     ATP 250   \n",
       "34   741                              Lexus Eastbourne Open     ATP 250   \n",
       "35   540                                          Wimbledon  Grand Slam   \n",
       "36  7480                   Mifel Tennis Open by Telcel Oppo     ATP 250   \n",
       "37   314                              EFG Swiss Open Gstaad     ATP 250   \n",
       "38   316                                        Nordea Open     ATP 250   \n",
       "39   439                     Plava Laguna Croatia Open Umag     ATP 250   \n",
       "40   418                              Mubadala Citi DC Open     ATP 500   \n",
       "41   319                                      Generali Open     ATP 250   \n",
       "\n",
       "                         location    end_date  \\\n",
       "0             Brisbane, Australia  2025-01-05   \n",
       "1            Hong Kong, Hong Kong  2025-01-05   \n",
       "2             Adelaide, Australia  2025-01-11   \n",
       "3           Auckland, New Zealand  2025-01-11   \n",
       "4            Melbourne, Australia  2025-01-26   \n",
       "5             Montpellier, France  2025-02-02   \n",
       "6           Dallas, United States  2025-02-09   \n",
       "7          Rotterdam, Netherlands  2025-02-09   \n",
       "8               Marseille, France  2025-02-16   \n",
       "9     Delray Beach, United States  2025-02-16   \n",
       "10        Buenos Aires, Argentina  2025-02-16   \n",
       "11                    Doha, Qatar  2025-02-22   \n",
       "12         Rio de Janeiro, Brazil  2025-02-23   \n",
       "13    Dubai, United Arab Emirates  2025-03-01   \n",
       "14               Acapulco, Mexico  2025-03-01   \n",
       "15                Santiago, Chile  2025-03-02   \n",
       "16    Indian Wells, United States  2025-03-16   \n",
       "17           Miami, United States  2025-03-30   \n",
       "18         Houston, United States  2025-04-06   \n",
       "19             Marrakech, Morocco  2025-04-06   \n",
       "20             Bucharest, Romania  2025-04-06   \n",
       "21            Monte-Carlo, Monaco  2025-04-13   \n",
       "22               Barcelona, Spain  2025-04-20   \n",
       "23                Munich, Germany  2025-04-20   \n",
       "24                  Madrid, Spain  2025-05-04   \n",
       "25                    Rome, Italy  2025-05-18   \n",
       "26               Hamburg, Germany  2025-05-24   \n",
       "27            Geneva, Switzerland  2025-05-24   \n",
       "28                  Paris, France  2025-06-08   \n",
       "29             Stuttgart, Germany  2025-06-15   \n",
       "30  's-Hertogenbosch, Netherlands  2025-06-15   \n",
       "31          London, Great Britain  2025-06-22   \n",
       "32                 Halle, Germany  2025-06-22   \n",
       "33                Mallorca, Spain  2025-06-28   \n",
       "34      Eastbourne, Great Britain  2025-06-28   \n",
       "35          London, Great Britain  2025-07-13   \n",
       "36              Los Cabos, Mexico  2025-07-19   \n",
       "37            Gstaad, Switzerland  2025-07-20   \n",
       "38                 Bastad, Sweden  2025-07-20   \n",
       "39                  Umag, Croatia  2025-07-26   \n",
       "40      Washington, United States  2025-07-27   \n",
       "41             Kitzbuhel, Austria  2025-07-26   \n",
       "\n",
       "                                                  url  \n",
       "0   https://www.atptour.com/en/tournaments/brisban...  \n",
       "1   https://www.atptour.com/en/tournaments/hong-ko...  \n",
       "2   https://www.atptour.com/en/tournaments/adelaid...  \n",
       "3   https://www.atptour.com/en/tournaments/aucklan...  \n",
       "4   https://www.atptour.com/en/tournaments/austral...  \n",
       "5   https://www.atptour.com/en/tournaments/montpel...  \n",
       "6   https://www.atptour.com/en/tournaments/dallas/...  \n",
       "7   https://www.atptour.com/en/tournaments/rotterd...  \n",
       "8   https://www.atptour.com/en/tournaments/marseil...  \n",
       "9   https://www.atptour.com/en/tournaments/delray-...  \n",
       "10  https://www.atptour.com/en/tournaments/buenos-...  \n",
       "11  https://www.atptour.com/en/tournaments/doha/45...  \n",
       "12  https://www.atptour.com/en/tournaments/rio-de-...  \n",
       "13  https://www.atptour.com/en/tournaments/dubai/4...  \n",
       "14  https://www.atptour.com/en/tournaments/acapulc...  \n",
       "15  https://www.atptour.com/en/tournaments/santiag...  \n",
       "16  https://www.atptour.com/en/tournaments/indian-...  \n",
       "17  https://www.atptour.com/en/tournaments/miami/4...  \n",
       "18  https://www.atptour.com/en/tournaments/houston...  \n",
       "19  https://www.atptour.com/en/tournaments/marrake...  \n",
       "20  https://www.atptour.com/en/tournaments/buchare...  \n",
       "21  https://www.atptour.com/en/tournaments/monte-c...  \n",
       "22  https://www.atptour.com/en/tournaments/barcelo...  \n",
       "23  https://www.atptour.com/en/tournaments/munich/...  \n",
       "24  https://www.atptour.com/en/tournaments/madrid/...  \n",
       "25  https://www.atptour.com/en/tournaments/rome/41...  \n",
       "26  https://www.atptour.com/en/tournaments/hamburg...  \n",
       "27  https://www.atptour.com/en/tournaments/geneva/...  \n",
       "28  https://www.atptour.com/en/tournaments/roland-...  \n",
       "29  https://www.atptour.com/en/tournaments/stuttga...  \n",
       "30  https://www.atptour.com/en/tournaments/s-herto...  \n",
       "31  https://www.atptour.com/en/tournaments/london/...  \n",
       "32  https://www.atptour.com/en/tournaments/halle/5...  \n",
       "33  https://www.atptour.com/en/tournaments/mallorc...  \n",
       "34  https://www.atptour.com/en/tournaments/eastbou...  \n",
       "35  https://www.atptour.com/en/tournaments/wimbled...  \n",
       "36  https://www.atptour.com/en/tournaments/los-cab...  \n",
       "37  https://www.atptour.com/en/tournaments/gstaad/...  \n",
       "38  https://www.atptour.com/en/tournaments/bastad/...  \n",
       "39  https://www.atptour.com/en/tournaments/umag/43...  \n",
       "40  https://www.atptour.com/en/tournaments/washing...  \n",
       "41  https://www.atptour.com/en/tournaments/kitzbuh...  "
      ]
     },
     "execution_count": 3,
     "metadata": {},
     "output_type": "execute_result"
    }
   ],
   "source": [
    "df_tournaments"
   ]
  },
  {
   "cell_type": "markdown",
   "id": "cc4ec05e",
   "metadata": {},
   "source": [
    "## Get Top 500"
   ]
  },
  {
   "cell_type": "code",
   "execution_count": 4,
   "id": "aa2b6fd4",
   "metadata": {},
   "outputs": [],
   "source": [
    "df_top_500_players = get_live_player_rankings(500).filter(['Name', 'id']).rename(columns={'Name': 'name'})"
   ]
  },
  {
   "cell_type": "code",
   "execution_count": 9,
   "id": "ba51a4b4",
   "metadata": {},
   "outputs": [
    {
     "data": {
      "application/vnd.microsoft.datawrangler.viewer.v0+json": {
       "columns": [
        {
         "name": "index",
         "rawType": "int64",
         "type": "integer"
        },
        {
         "name": "name",
         "rawType": "object",
         "type": "string"
        },
        {
         "name": "id",
         "rawType": "object",
         "type": "string"
        }
       ],
       "ref": "2997ff83-c398-4b31-86cb-e4a8b83750a9",
       "rows": [
        [
         "0",
         "J. Sinner",
         "s0ag"
        ],
        [
         "1",
         "C. Alcaraz",
         "a0e2"
        ],
        [
         "2",
         "A. Zverev",
         "z355"
        ],
        [
         "3",
         "T. Fritz",
         "fb98"
        ],
        [
         "4",
         "J. Draper",
         "d0co"
        ],
        [
         "5",
         "N. Djokovic",
         "d643"
        ],
        [
         "6",
         "B. Shelton",
         "s0s1"
        ],
        [
         "7",
         "A. de Minaur",
         "dh58"
        ],
        [
         "8",
         "H. Rune",
         "r0dg"
        ],
        [
         "9",
         "L. Musetti",
         "m0ej"
        ],
        [
         "10",
         "A. Rublev",
         "re44"
        ],
        [
         "11",
         "C. Ruud",
         "rh16"
        ],
        [
         "12",
         "K. Khachanov",
         "ke29"
        ],
        [
         "13",
         "F. Tiafoe",
         "td51"
        ],
        [
         "14",
         "D. Medvedev",
         "mm58"
        ],
        [
         "15",
         "T. Paul",
         "pl56"
        ],
        [
         "16",
         "J. Mensik",
         "m0ni"
        ],
        [
         "17",
         "A. Davidovich Fokina",
         "dh50"
        ],
        [
         "18",
         "A. Popyrin",
         "p09z"
        ],
        [
         "19",
         "A. Fils",
         "f0f1"
        ],
        [
         "20",
         "G. Dimitrov",
         "d875"
        ],
        [
         "21",
         "F. Cobolli",
         "c0e9"
        ],
        [
         "22",
         "F. Cerundolo",
         "c0au"
        ],
        [
         "23",
         "T. Machac",
         "m0fh"
        ],
        [
         "24",
         "U. Humbert",
         "hh26"
        ],
        [
         "25",
         "J. Lehecka",
         "l0bv"
        ],
        [
         "26",
         "A. Bublik",
         "bk92"
        ],
        [
         "27",
         "F. Auger-Aliassime",
         "ag37"
        ],
        [
         "28",
         "S. Tsitsipas",
         "te51"
        ],
        [
         "29",
         "D. Shapovalov",
         "su55"
        ],
        [
         "30",
         "B. Nakashima",
         "n0ae"
        ],
        [
         "31",
         "T. Griekspoor",
         "gj37"
        ],
        [
         "32",
         "A. Michelsen",
         "m0qi"
        ],
        [
         "33",
         "L. Darderi",
         "d0fj"
        ],
        [
         "34",
         "G. Diallo",
         "d0f6"
        ],
        [
         "35",
         "L. Sonego",
         "su87"
        ],
        [
         "36",
         "M. Arnaldi",
         "a0fc"
        ],
        [
         "37",
         "N. Borges",
         "bt72"
        ],
        [
         "38",
         "H. Hurkacz",
         "hb71"
        ],
        [
         "39",
         "C. Norrie",
         "n771"
        ],
        [
         "40",
         "A. Muller",
         "mp20"
        ],
        [
         "41",
         "G. Mpetshi Perricard",
         "m0gz"
        ],
        [
         "42",
         "S. Baez",
         "b0bi"
        ],
        [
         "43",
         "C. Moutet",
         "mw02"
        ],
        [
         "44",
         "S. Korda",
         "k0ah"
        ],
        [
         "45",
         "G. Monfils",
         "mc65"
        ],
        [
         "46",
         "C. Ugo Carabelli",
         "u182"
        ],
        [
         "47",
         "J. Munar",
         "mu94"
        ],
        [
         "48",
         "M. Kecmanovic",
         "ki95"
        ],
        [
         "49",
         "J. Thompson",
         "tc61"
        ]
       ],
       "shape": {
        "columns": 2,
        "rows": 498
       }
      },
      "text/html": [
       "<div>\n",
       "<style scoped>\n",
       "    .dataframe tbody tr th:only-of-type {\n",
       "        vertical-align: middle;\n",
       "    }\n",
       "\n",
       "    .dataframe tbody tr th {\n",
       "        vertical-align: top;\n",
       "    }\n",
       "\n",
       "    .dataframe thead th {\n",
       "        text-align: right;\n",
       "    }\n",
       "</style>\n",
       "<table border=\"1\" class=\"dataframe\">\n",
       "  <thead>\n",
       "    <tr style=\"text-align: right;\">\n",
       "      <th></th>\n",
       "      <th>name</th>\n",
       "      <th>id</th>\n",
       "    </tr>\n",
       "  </thead>\n",
       "  <tbody>\n",
       "    <tr>\n",
       "      <th>0</th>\n",
       "      <td>J. Sinner</td>\n",
       "      <td>s0ag</td>\n",
       "    </tr>\n",
       "    <tr>\n",
       "      <th>1</th>\n",
       "      <td>C. Alcaraz</td>\n",
       "      <td>a0e2</td>\n",
       "    </tr>\n",
       "    <tr>\n",
       "      <th>2</th>\n",
       "      <td>A. Zverev</td>\n",
       "      <td>z355</td>\n",
       "    </tr>\n",
       "    <tr>\n",
       "      <th>3</th>\n",
       "      <td>T. Fritz</td>\n",
       "      <td>fb98</td>\n",
       "    </tr>\n",
       "    <tr>\n",
       "      <th>4</th>\n",
       "      <td>J. Draper</td>\n",
       "      <td>d0co</td>\n",
       "    </tr>\n",
       "    <tr>\n",
       "      <th>...</th>\n",
       "      <td>...</td>\n",
       "      <td>...</td>\n",
       "    </tr>\n",
       "    <tr>\n",
       "      <th>493</th>\n",
       "      <td>E. Vasa</td>\n",
       "      <td>v993</td>\n",
       "    </tr>\n",
       "    <tr>\n",
       "      <th>494</th>\n",
       "      <td>J. Delaney</td>\n",
       "      <td>dc38</td>\n",
       "    </tr>\n",
       "    <tr>\n",
       "      <th>495</th>\n",
       "      <td>F. Peliwo</td>\n",
       "      <td>pf65</td>\n",
       "    </tr>\n",
       "    <tr>\n",
       "      <th>496</th>\n",
       "      <td>C. Sigsgaard</td>\n",
       "      <td>sy00</td>\n",
       "    </tr>\n",
       "    <tr>\n",
       "      <th>497</th>\n",
       "      <td>D. Jorda Sanchis</td>\n",
       "      <td>j476</td>\n",
       "    </tr>\n",
       "  </tbody>\n",
       "</table>\n",
       "<p>498 rows × 2 columns</p>\n",
       "</div>"
      ],
      "text/plain": [
       "                 name    id\n",
       "0           J. Sinner  s0ag\n",
       "1          C. Alcaraz  a0e2\n",
       "2           A. Zverev  z355\n",
       "3            T. Fritz  fb98\n",
       "4           J. Draper  d0co\n",
       "..                ...   ...\n",
       "493           E. Vasa  v993\n",
       "494        J. Delaney  dc38\n",
       "495         F. Peliwo  pf65\n",
       "496      C. Sigsgaard  sy00\n",
       "497  D. Jorda Sanchis  j476\n",
       "\n",
       "[498 rows x 2 columns]"
      ]
     },
     "execution_count": 9,
     "metadata": {},
     "output_type": "execute_result"
    }
   ],
   "source": [
    "df_top_500_players"
   ]
  },
  {
   "cell_type": "markdown",
   "id": "5f8d6cd5",
   "metadata": {},
   "source": [
    "## Get Results"
   ]
  },
  {
   "cell_type": "markdown",
   "id": "2924002b",
   "metadata": {},
   "source": [
    "### Get Url's For Automation\n",
    "\n",
    "This will check if last date scraped is stored and use that for the date to start scraping results urls from."
   ]
  },
  {
   "cell_type": "code",
   "execution_count": null,
   "id": "5fd55a6f",
   "metadata": {},
   "outputs": [],
   "source": [
    "date_file = \"s3://matchedge-pipeline/logs/last_scraped_date.csv\"        # Path to your file storing the last scraped date\n",
    "\n",
    "# --- Step 1: Check if file exists and read last scrape date ---\n",
    "if os.path.exists(date_file):\n",
    "    try:\n",
    "        last_scraped_df = pd.read_csv(date_file)\n",
    "        start_date = pd.to_datetime(last_scraped_df.iloc[0,0])\n",
    "    except Exception as e:\n",
    "        raise FileNotFoundError(f\"{date_file} not found. Cannot determine start date for scraping results.\")\n",
    "\n",
    "# --- Step 2: Use start_date in your scraping function ---\n",
    "results_url = extract_results_url(df_tournament=df_tournaments, start_date=start_date)\n",
    "\n",
    "# --- Step 3: Save today's date to file for next run ---\n",
    "today = datetime.today().date()\n",
    "pd.DataFrame([today]).to_csv(date_file, index=False, header=False)"
   ]
  },
  {
   "cell_type": "code",
   "execution_count": 7,
   "id": "68cf194f",
   "metadata": {},
   "outputs": [
    {
     "data": {
      "text/plain": [
       "['https://www.atptour.com/en/scores/archive/madrid/1536/2025/results',\n",
       " 'https://www.atptour.com/en/scores/archive/rome/416/2025/results',\n",
       " 'https://www.atptour.com/en/scores/archive/hamburg/414/2025/results',\n",
       " 'https://www.atptour.com/en/scores/archive/geneva/322/2025/results',\n",
       " 'https://www.atptour.com/en/scores/archive/roland-garros/520/2025/results',\n",
       " 'https://www.atptour.com/en/scores/archive/stuttgart/321/2025/results',\n",
       " 'https://www.atptour.com/en/scores/archive/s-hertogenbosch/440/2025/results',\n",
       " 'https://www.atptour.com/en/scores/archive/london/311/2025/results',\n",
       " 'https://www.atptour.com/en/scores/archive/halle/500/2025/results',\n",
       " 'https://www.atptour.com/en/scores/archive/mallorca/8994/2025/results',\n",
       " 'https://www.atptour.com/en/scores/archive/eastbourne/741/2025/results',\n",
       " 'https://www.atptour.com/en/scores/archive/wimbledon/540/2025/results',\n",
       " 'https://www.atptour.com/en/scores/archive/los-cabos/7480/2025/results',\n",
       " 'https://www.atptour.com/en/scores/archive/gstaad/314/2025/results',\n",
       " 'https://www.atptour.com/en/scores/archive/bastad/316/2025/results',\n",
       " 'https://www.atptour.com/en/scores/archive/umag/439/2025/results',\n",
       " 'https://www.atptour.com/en/scores/archive/washington/418/2025/results',\n",
       " 'https://www.atptour.com/en/scores/archive/kitzbuhel/319/2025/results']"
      ]
     },
     "execution_count": 7,
     "metadata": {},
     "output_type": "execute_result"
    }
   ],
   "source": [
    "results_url"
   ]
  },
  {
   "cell_type": "markdown",
   "id": "a98cd48b",
   "metadata": {},
   "source": [
    "### Get The Results"
   ]
  },
  {
   "cell_type": "code",
   "execution_count": null,
   "id": "e4a156c6",
   "metadata": {},
   "outputs": [],
   "source": [
    "df_tournament_results = get_tournament_results(results_url)"
   ]
  },
  {
   "cell_type": "markdown",
   "id": "4c0ddc5b",
   "metadata": {},
   "source": [
    "## Get Stats"
   ]
  },
  {
   "cell_type": "code",
   "execution_count": null,
   "id": "58bc7984",
   "metadata": {},
   "outputs": [],
   "source": [
    "stat_url = df_tournament_results['stats_link'].to_list()\n",
    "stats = get_stats(stat_url)"
   ]
  },
  {
   "cell_type": "markdown",
   "id": "3b586201",
   "metadata": {},
   "source": [
    "## Save"
   ]
  },
  {
   "cell_type": "code",
   "execution_count": null,
   "id": "0968386a",
   "metadata": {},
   "outputs": [],
   "source": [
    "df_tournaments.to_csv(f\"s3://matchedge-pipeline/data/raw/All_Tournaments_{today}.csv\")\n",
    "df_top_500_players.to_csv(f\"s3://matchedge-pipeline/data/raw/top_500_players_{today}.csv\")\n",
    "df_tournament_results.to_csv(f\"s3://matchedge-pipeline/data/raw/all_results_{today}.csv\")\n",
    "stats.to_csv(f\"s3://matchedge-pipeline/data/raw/all_stats_GS_{today}.csv\")"
   ]
  }
 ],
 "metadata": {
  "kernelspec": {
   "display_name": "selenium_env",
   "language": "python",
   "name": "python3"
  },
  "language_info": {
   "codemirror_mode": {
    "name": "ipython",
    "version": 3
   },
   "file_extension": ".py",
   "mimetype": "text/x-python",
   "name": "python",
   "nbconvert_exporter": "python",
   "pygments_lexer": "ipython3",
   "version": "3.9.21"
  }
 },
 "nbformat": 4,
 "nbformat_minor": 5
}
